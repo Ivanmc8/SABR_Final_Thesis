{
  "nbformat": 4,
  "nbformat_minor": 0,
  "metadata": {
    "colab": {
      "name": "SABR_FINAL_THESIS_.ipynb",
      "provenance": [],
      "collapsed_sections": [
        "UzSVKxLO36Vs",
        "m0sts0Jn4_8g",
        "wL0uQkRRPqqK",
        "WD4ibVcXSJk9"
      ]
    },
    "kernelspec": {
      "name": "python3",
      "display_name": "Python 3"
    },
    "language_info": {
      "name": "python"
    }
  },
  "cells": [
    {
      "cell_type": "markdown",
      "source": [
        "# LIBRARIES"
      ],
      "metadata": {
        "id": "CAgiaSAp-Ey4"
      }
    },
    {
      "cell_type": "code",
      "source": [
        "import numpy as np\n",
        "import pandas as pd\n",
        "import matplotlib.pyplot as plt\n",
        "import scipy.stats as ss\n",
        "from time import time\n",
        "from scipy.optimize import curve_fit\n",
        "from google.colab import files\n",
        "import io\n",
        "from tabulate import tabulate\n",
        "from scipy import optimize\n",
        "import matplotlib as mpl\n",
        "import matplotlib.pyplot as plt\n",
        "from mpl_toolkits.mplot3d import Axes3D"
      ],
      "metadata": {
        "id": "_O4pnVzYPiGU"
      },
      "execution_count": null,
      "outputs": []
    },
    {
      "cell_type": "markdown",
      "source": [
        "# PRICES SIMULATION"
      ],
      "metadata": {
        "id": "n54tQRbo348r"
      }
    },
    {
      "cell_type": "markdown",
      "source": [
        "## Black-Scholes for Vanilla Call Option"
      ],
      "metadata": {
        "id": "R7RtJ3y-4huI"
      }
    },
    {
      "cell_type": "code",
      "source": [
        "def d1(s0,k,r,sigma,T):\n",
        "    return (np.log(s0/k)+(r+sigma**2/2)*T)/(sigma*np.sqrt(T))\n",
        "\n",
        "def d2(s0,k,r,sigma,T):\n",
        "     return (np.log(s0/k)+(r-sigma**2/2)*T)/(sigma*np.sqrt(T))\n",
        "    \n",
        "def BS(s0,k,r,sigma,T):\n",
        "    return s0*ss.norm.cdf(d1(s0,k,r,sigma,T))-k*np.exp(-r*T)*ss.norm.cdf(d2(s0,k,r,sigma,T))"
      ],
      "metadata": {
        "id": "_KPHHnvv4Y6i"
      },
      "execution_count": null,
      "outputs": []
    },
    {
      "cell_type": "markdown",
      "source": [
        "## Monte Carlo Simulations\n",
        "\n",
        "\n",
        "\n"
      ],
      "metadata": {
        "id": "LE5O6niV463n"
      }
    },
    {
      "cell_type": "code",
      "source": [
        "def std_MC(S0,k,sigma0,n,m,T,alpha,rho):\n",
        "  W1=np.random.normal(0,1,(n,m+1))\n",
        "  W2=np.random.normal(0,1,(n,m+1))\n",
        "  sigma=np.zeros([n,m+1])\n",
        "  S=np.zeros([n,m+1])\n",
        "  X=np.zeros([n,m+1])\n",
        "  Payoff=np.zeros(n)\n",
        "  for i in range(0,n):\n",
        "    sigma[i][0]=sigma0\n",
        "    S[i][0]=S0\n",
        "    for j in range(0,m):\n",
        "      sigma[i][j+1]=sigma[i][j]+alpha*sigma[i][j]*W1[i][j]*np.sqrt(T/m)\n",
        "      X[i][j+1]=X[i][j]-0.5*(sigma[i][j]**2)*T/m+sigma[i][j]*(rho*W1[i][j]+np.sqrt(1-(rho**2))*W2[i][j])*np.sqrt(T/m)\n",
        "    S[i]=S0*np.exp(X[i])\n",
        "    Payoff[i]=np.maximum(S[i][m]-k,0)\n",
        "  Option_price=np.mean(Payoff)\n",
        "  return Option_price"
      ],
      "metadata": {
        "id": "kvZRTLE7cFVa"
      },
      "execution_count": null,
      "outputs": []
    },
    {
      "cell_type": "code",
      "source": [
        "def cond_MC(S0,k,sigma0,n,m,T,alpha,rho):\n",
        "  time=np.zeros([m+1])\n",
        "  W=np.random.normal(0,1,(n,m+1))\n",
        "  sigma1=np.zeros([n,m+1])\n",
        "  BS2=np.zeros(n)\n",
        "  S0_prime=np.zeros(n)\n",
        "  sigma_rt=np.zeros(n)\n",
        "  sigdef=np.zeros(n)\n",
        "  int_dw=np.zeros(n)\n",
        "  for i in range (0,n):\n",
        "    sigma1[i][0]=sigma0\n",
        "    for j in range (0,m):\n",
        "      time[j+1]=time[j]+T/m\n",
        "      sigma1[i][j+1]=sigma1[i][j]*np.exp((-0.5*alpha**2)*time[j+1]+alpha*W[i][j]*np.sqrt(T/m))\n",
        "    int_du=np.sum(sigma1[i]**2)*T/m\n",
        "    rt_var=np.sqrt(np.mean(sigma1[i]**2))\n",
        "    for j in range(0,m):\n",
        "      int_dw[i]=int_dw[i]+sigma1[i][j]*(W[i][j+1]-W[i][j])*np.sqrt(T/m)\n",
        "    S0_prime[i]=S0*np.exp(-0.5*rho**2*int_du+rho*int_dw[i])\n",
        "    sigdef[i]=np.sqrt(1-rho**2)*rt_var\n",
        "    BS2[i]=BS(S0_prime[i],k,0,sigdef[i],T)\n",
        "  option_price=np.mean(BS2)\n",
        "  return option_price"
      ],
      "metadata": {
        "id": "pU4fgKoa3Li3"
      },
      "execution_count": null,
      "outputs": []
    },
    {
      "cell_type": "markdown",
      "source": [
        "## Standard and Conditional Monte Carlo simulations for Vanilla Call Option"
      ],
      "metadata": {
        "id": "UqQaUGKc6EjR"
      }
    },
    {
      "cell_type": "markdown",
      "source": [
        "Vector of option price simulations = (100, 500, 50)\n",
        "\n",
        "Underlying asset price (s0) = 100\n",
        "\n",
        "Number of paths simulated (n) = 100\n",
        "\n",
        "Number of periods (m) = 1000"
      ],
      "metadata": {
        "id": "Ap3bhfIg6Nq0"
      }
    },
    {
      "cell_type": "code",
      "source": [
        "S_MC_11=np.zeros(100)\n",
        "S_CMC_11=np.zeros(100)\n",
        "t_MC_11=np.zeros(100)\n",
        "t_CMC_11=np.zeros(100)\n",
        "\n",
        "for i in range(1,100):\n",
        "  st_MC_11=time()\n",
        "  S_MC_11[i]=std_MC(100,80,0.15,100,1000,1,0.4,0.6)\n",
        "  fin_MC_11=time()\n",
        "  t_MC_11[i]=fin_MC_11-st_MC_11\n",
        "  st_CMC_11=time()\n",
        "  S_CMC_11[i]=cond_MC(100,80,0.15,100,1000,1,0.4,0.6)\n",
        "  fin_CMC_11=time()\n",
        "  t_CMC_11[i]=fin_CMC_11-st_CMC_11\n",
        "    \n",
        "sd_MC_11=np.std(S_MC_11)\n",
        "mean_MC_11=np.mean(S_MC_11)\n",
        "meant_MC_11=np.mean(t_MC_11)\n",
        "\n",
        "sd_CMC_11=np.std(S_CMC_11)\n",
        "mean_CMC_11=np.mean(S_CMC_11)\n",
        "meant_CMC_11=np.mean(t_CMC_11)\n",
        "    \n",
        "S_MC_12=np.zeros(500)\n",
        "S_CMC_12=np.zeros(500)\n",
        "t_MC_12=np.zeros(500)\n",
        "t_CMC_12=np.zeros(500)\n",
        "\n",
        "for i in range(1,500):\n",
        "  st_MC_12=time()\n",
        "  S_MC_12[i]=std_MC(100,80,0.15,100,1000,1,0.4,0.6)\n",
        "  fin_MC_12=time()\n",
        "  t_MC_12[i]=fin_MC_12-st_MC_12\n",
        "  st_CMC_12=time()\n",
        "  S_CMC_12[i]=cond_MC(100,80,0.15,100,1000,1,0.4,0.6)\n",
        "  fin_CMC_12=time()\n",
        "  t_CMC_12[i]=fin_CMC_12-st_CMC_12\n",
        "\n",
        "sd_MC_12=np.std(S_MC_12)\n",
        "mean_MC_12=np.mean(S_MC_12)\n",
        "meant_MC_12=np.mean(t_MC_12)\n",
        "\n",
        "sd_CMC_12=np.std(S_CMC_12)\n",
        "mean_CMC_12=np.mean(S_CMC_12)\n",
        "meant_CMC_12=np.mean(t_CMC_12)\n",
        "\n",
        "S_MC_13=np.zeros(50)\n",
        "S_CMC_13=np.zeros(50)\n",
        "t_MC_13=np.zeros(50)\n",
        "t_CMC_13=np.zeros(50)\n",
        "\n",
        "for i in range(1,50):\n",
        "  st_MC_13=time()\n",
        "  S_MC_13[i]=std_MC(100,80,0.15,100,1000,1,0.4,0.6)\n",
        "  fin_MC_13=time()\n",
        "  t_MC_13[i]=fin_MC_13-st_MC_13\n",
        "  st_CMC_13=time()\n",
        "  S_CMC_13[i]=cond_MC(100,80,0.15,100,1000,1,0.4,0.6)\n",
        "  fin_CMC_13=time()\n",
        "  t_CMC_13[i]=fin_CMC_13-st_CMC_13\n",
        "    \n",
        "sd_MC_13=np.std(S_MC_13)\n",
        "mean_MC_13=np.mean(S_MC_13)\n",
        "meant_MC_13=np.mean(t_MC_13)\n",
        "\n",
        "sd_CMC_13=np.std(S_CMC_13)\n",
        "mean_CMC_13=np.mean(S_CMC_13)\n",
        "meant_CMC_13=np.mean(t_CMC_13)\n",
        "\n",
        "tvm_11={'MC':[meant_MC_11,sd_MC_11,mean_MC_11],'CMC':[meant_CMC_11,sd_CMC_11,mean_CMC_11]}\n",
        "tvm_12={'MC':[meant_MC_12,sd_MC_12,mean_MC_12],'CMC':[meant_CMC_12,sd_CMC_12,mean_CMC_12]}\n",
        "tvm_13={'MC':[meant_MC_13,sd_MC_13,mean_MC_13],'CMC':[meant_CMC_13,sd_CMC_13,mean_CMC_13]}\n",
        "\n",
        "df_11=pd.DataFrame(tvm_11,index=['Seconds','SD','Mean'])\n",
        "print(df_11)\n",
        "df_12=pd.DataFrame(tvm_12,index=['Seconds','SD','Mean'])\n",
        "print(df_12)\n",
        "df_13=pd.DataFrame(tvm_13,index=['Seconds','SD','Mean'])\n",
        "print(df_13)\n"
      ],
      "metadata": {
        "id": "dsvH_YB86M5g"
      },
      "execution_count": null,
      "outputs": []
    },
    {
      "cell_type": "markdown",
      "source": [
        "Vector of option price simulations = (100, 500, 50)\n",
        "\n",
        "Underlying asset price (s0) = 100\n",
        "\n",
        "Number of paths simulated (n) = 500\n",
        "\n",
        "Number of periods (m) = 1000"
      ],
      "metadata": {
        "id": "zA7Th0IV6WkG"
      }
    },
    {
      "cell_type": "code",
      "source": [
        "S_MC_21=np.zeros(100)\n",
        "S_CMC_21=np.zeros(100)\n",
        "t_MC_21=np.zeros(100)\n",
        "t_CMC_21=np.zeros(100)\n",
        "\n",
        "for i in range(1,100):\n",
        "  st_MC_21=time()\n",
        "  S_MC_21[i]=std_MC(100,80,0.15,500,1000,1,0.4,0.6)\n",
        "  fin_MC_21=time()\n",
        "  t_MC_21[i]=fin_MC_21-st_MC_21\n",
        "  st_CMC_21=time()\n",
        "  S_CMC_21[i]=cond_MC(100,80,0.15,500,1000,1,0.4,0.6)\n",
        "  fin_CMC_21=time()\n",
        "  t_CMC_21[i]=fin_CMC_21-st_CMC_21\n",
        "    \n",
        "sd_MC_21=np.std(S_MC_21)\n",
        "mean_MC_21=np.mean(S_MC_21)\n",
        "meant_MC_21=np.mean(t_MC_21)\n",
        "\n",
        "sd_CMC_21=np.std(S_CMC_21)\n",
        "mean_CMC_21=np.mean(S_CMC_21)\n",
        "meant_CMC_21=np.mean(t_CMC_21)\n",
        "    \n",
        "S_MC_22=np.zeros(500)\n",
        "S_CMC_22=np.zeros(500)\n",
        "t_MC_22=np.zeros(500)\n",
        "t_CMC_22=np.zeros(500)\n",
        "\n",
        "for i in range(1,500):\n",
        "  st_MC_22=time()\n",
        "  S_MC_22[i]=std_MC(100,80,0.15,500,1000,1,0.4,0.6)\n",
        "  fin_MC_22=time()\n",
        "  t_MC_22[i]=fin_MC_22-st_MC_22\n",
        "  st_CMC_22=time()\n",
        "  S_CMC_22[i]=cond_MC(100,80,0.15,500,1000,1,0.4,0.6)\n",
        "  fin_CMC_22=time()\n",
        "  t_CMC_22[i]=fin_CMC_22-st_CMC_22\n",
        "\n",
        "sd_MC_22=np.std(S_MC_22)\n",
        "mean_MC_22=np.mean(S_MC_22)\n",
        "meant_MC_22=np.mean(t_MC_22)\n",
        "\n",
        "sd_CMC_22=np.std(S_CMC_22)\n",
        "mean_CMC_22=np.mean(S_CMC_22)\n",
        "meant_CMC_22=np.mean(t_CMC_22)\n",
        "\n",
        "S_MC_23=np.zeros(50)\n",
        "S_CMC_23=np.zeros(50)\n",
        "t_MC_23=np.zeros(50)\n",
        "t_CMC_23=np.zeros(50)\n",
        "\n",
        "for i in range(1,50):\n",
        "  st_MC_23=time()\n",
        "  S_MC_23[i]=std_MC(100,80,0.15,500,1000,1,0.4,0.6)\n",
        "  fin_MC_23=time()\n",
        "  t_MC_23[i]=fin_MC_23-st_MC_23\n",
        "  st_CMC_23=time()\n",
        "  S_CMC_23[i]=cond_MC(100,80,0.15,500,1000,1,0.4,0.6)\n",
        "  fin_CMC_23=time()\n",
        "  t_CMC_23[i]=fin_CMC_23-st_CMC_23\n",
        "    \n",
        "sd_MC_23=np.std(S_MC_23)\n",
        "mean_MC_23=np.mean(S_MC_23)\n",
        "meant_MC_23=np.mean(t_MC_23)\n",
        "\n",
        "sd_CMC_23=np.std(S_CMC_23)\n",
        "mean_CMC_23=np.mean(S_CMC_23)\n",
        "meant_CMC_23=np.mean(t_CMC_23)\n",
        "\n",
        "tvm_21={'MC':[meant_MC_21,sd_MC_21,mean_MC_21],'CMC':[meant_CMC_21,sd_CMC_21,mean_CMC_21]}\n",
        "tvm_22={'MC':[meant_MC_22,sd_MC_22,mean_MC_22],'CMC':[meant_CMC_22,sd_CMC_22,mean_CMC_22]}\n",
        "tvm_23={'MC':[meant_MC_23,sd_MC_23,mean_MC_23],'CMC':[meant_CMC_23,sd_CMC_23,mean_CMC_23]}\n",
        "\n",
        "df_21=pd.DataFrame(tvm_21,index=['Seconds','SD','Mean'])\n",
        "print(df_21)\n",
        "df_22=pd.DataFrame(tvm_22,index=['Seconds','SD','Mean'])\n",
        "print(df_22)\n",
        "df_23=pd.DataFrame(tvm_23,index=['Seconds','SD','Mean'])\n",
        "print(df_23)"
      ],
      "metadata": {
        "id": "jzDx3NnX6ZYY"
      },
      "execution_count": null,
      "outputs": []
    },
    {
      "cell_type": "markdown",
      "source": [
        "Vector of option price simulations = (100, 500, 50)\n",
        "\n",
        "Underlying asset price (s0) = 100\n",
        "\n",
        "Number of paths simulated (n) = 1000\n",
        "\n",
        "Number of periods (m) = 1000"
      ],
      "metadata": {
        "id": "qg5p1TDT6dKW"
      }
    },
    {
      "cell_type": "code",
      "source": [
        "S_MC_31=np.zeros(100)\n",
        "S_CMC_31=np.zeros(100)\n",
        "t_MC_31=np.zeros(100)\n",
        "t_CMC_31=np.zeros(100)\n",
        "\n",
        "for i in range(1,100):\n",
        "  st_MC_31=time()\n",
        "  S_MC_31[i]=std_MC(100,80,0.15,500,1000,1,0.4,0.6)\n",
        "  fin_MC_31=time()\n",
        "  t_MC_31[i]=fin_MC_31-st_MC_31\n",
        "  st_CMC_31=time()\n",
        "  S_CMC_31[i]=std_MC(100,80,0.15,500,1000,1,0.4,0.6)\n",
        "  fin_CMC_31=time()\n",
        "  t_CMC_31[i]=fin_CMC_31-st_CMC_31\n",
        "    \n",
        "sd_MC_31=np.std(S_MC_31)\n",
        "mean_MC_31=np.mean(S_MC_31)\n",
        "meant_MC_31=np.mean(t_MC_31)\n",
        "\n",
        "sd_CMC_31=np.std(S_CMC_31)\n",
        "mean_CMC_31=np.mean(S_CMC_31)\n",
        "meant_CMC_31=np.mean(t_CMC_31)\n",
        "    \n",
        "S_MC_32=np.zeros(300)\n",
        "S_CMC_32=np.zeros(300)\n",
        "t_MC_32=np.zeros(300)\n",
        "t_CMC_32=np.zeros(300)\n",
        "\n",
        "for i in range(1,300):\n",
        "  st_MC_32=time()\n",
        "  S_MC_32[i]=std_MC(100,80,0.15,500,1000,1,0.4,0.6)\n",
        "  fin_MC_32=time()\n",
        "  t_MC_32[i]=fin_MC_32-st_MC_32\n",
        "  st_CMC_32=time()\n",
        "  S_CMC_32[i]=cond_MC(100,80,0.15,500,1000,1,0.4,0.6)\n",
        "  fin_CMC_32=time()\n",
        "  t_CMC_32[i]=fin_CMC_32-st_CMC_32\n",
        "\n",
        "sd_MC_32=np.std(S_MC_32)\n",
        "mean_MC_32=np.mean(S_MC_32)\n",
        "meant_MC_32=np.mean(t_MC_32)\n",
        "\n",
        "sd_CMC_32=np.std(S_CMC_32)\n",
        "mean_CMC_32=np.mean(S_CMC_32)\n",
        "meant_CMC_32=np.mean(t_CMC_32)\n",
        "\n",
        "S_MC_33=np.zeros(50)\n",
        "S_CMC_33=np.zeros(50)\n",
        "t_MC_33=np.zeros(50)\n",
        "t_CMC_33=np.zeros(50)\n",
        "\n",
        "for i in range(1,50):\n",
        "  st_MC_33=time()\n",
        "  S_MC_33[i]=std_MC(100,80,0.15,500,1000,1,0.4,0.6)\n",
        "  fin_MC_33=time()\n",
        "  t_MC_33[i]=fin_MC_33-st_MC_33\n",
        "  st_CMC_33=time()\n",
        "  S_CMC_33[i]=cond_MC(100,80,0.15,500,1000,1,0.4,0.6)\n",
        "  fin_CMC_33=time()\n",
        "  t_CMC_33[i]=fin_CMC_33-st_CMC_33\n",
        "    \n",
        "sd_MC_33=np.std(S_MC_33)\n",
        "mean_MC_33=np.mean(S_MC_33)\n",
        "meant_MC_33=np.mean(t_MC_33)\n",
        "\n",
        "sd_CMC_33=np.std(S_CMC_33)\n",
        "mean_CMC_33=np.mean(S_CMC_33)\n",
        "meant_CMC_33=np.mean(t_CMC_33)\n",
        "\n",
        "tvm_31={'MC':[meant_MC_31,sd_MC_31,mean_MC_31],'CMC':[meant_CMC_31,sd_CMC_31,mean_CMC_31]}\n",
        "tvm_32={'MC':[meant_MC_32,sd_MC_32,mean_MC_32],'CMC':[meant_CMC_32,sd_CMC_32,mean_CMC_32]}\n",
        "tvm_33={'MC':[meant_MC_33,sd_MC_33,mean_MC_33],'CMC':[meant_CMC_33,sd_CMC_33,mean_CMC_33]}\n",
        "\n",
        "df_31=pd.DataFrame(tvm_31,index=['Seconds','SD','Mean'])\n",
        "print(df_31)\n",
        "df_32=pd.DataFrame(tvm_32,index=['Seconds','SD','Mean'])\n",
        "print(df_32)\n",
        "df_33=pd.DataFrame(tvm_33,index=['Seconds','SD','Mean'])\n",
        "print(df_33)"
      ],
      "metadata": {
        "id": "kGbBFPy46jQ1"
      },
      "execution_count": null,
      "outputs": []
    },
    {
      "cell_type": "code",
      "source": [
        "for i in range(1,50):\n",
        "  st_MC_33=time()\n",
        "  S_MC_33[i]=std_MC(100,80,0.15,500,1000,1,0.4,0.6)\n",
        "  fin_MC_33=time()\n",
        "  t_MC_33[i]=fin_MC_33-st_MC_33\n",
        "  st_CMC_33=time()\n",
        "  S_CMC_33[i]=cond_MC(100,80,0.15,500,1000,1,0.4,0.6)\n",
        "  fin_CMC_33=time()\n",
        "  t_CMC_33[i]=fin_CMC_33-st_CMC_33\n",
        "    \n",
        "sd_MC_33=np.std(S_MC_33)\n",
        "mean_MC_33=np.mean(S_MC_33)\n",
        "meant_MC_33=np.mean(t_MC_33)\n",
        "\n",
        "sd_CMC_33=np.std(S_CMC_33)\n",
        "mean_CMC_33=np.mean(S_CMC_33)\n",
        "meant_CMC_33=np.mean(t_CMC_33)\n",
        "\n",
        "tvm_33={'MC':[meant_MC_33,sd_MC_33,mean_MC_33],'CMC':[meant_CMC_33,sd_CMC_33,mean_CMC_33]}\n",
        "\n",
        "df_33=pd.DataFrame(tvm_33,index=['Seconds','SD','Mean'])\n",
        "print(df_33)"
      ],
      "metadata": {
        "id": "SK8FHPZQ6kKa"
      },
      "execution_count": null,
      "outputs": []
    },
    {
      "cell_type": "markdown",
      "source": [
        "# SABR CALIBRATION"
      ],
      "metadata": {
        "id": "UzSVKxLO36Vs"
      }
    },
    {
      "cell_type": "markdown",
      "source": [
        "## FIiles"
      ],
      "metadata": {
        "id": "m0sts0Jn4_8g"
      }
    },
    {
      "cell_type": "code",
      "source": [
        "uploaded = files.upload()\n"
      ],
      "metadata": {
        "colab": {
          "resources": {
            "http://localhost:8080/nbextensions/google.colab/files.js": {
              "data": "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",
              "ok": true,
              "headers": [
                [
                  "content-type",
                  "application/javascript"
                ]
              ],
              "status": 200,
              "status_text": ""
            }
          },
          "base_uri": "https://localhost:8080/",
          "height": 142
        },
        "id": "8QSpSAGif3XO",
        "outputId": "a99a369b-7259-43b4-dc37-28fada2e8d9f"
      },
      "execution_count": null,
      "outputs": [
        {
          "output_type": "display_data",
          "data": {
            "text/plain": [
              "<IPython.core.display.HTML object>"
            ],
            "text/html": [
              "\n",
              "     <input type=\"file\" id=\"files-f0112197-c866-4625-a875-b080556d43ee\" name=\"files[]\" multiple disabled\n",
              "        style=\"border:none\" />\n",
              "     <output id=\"result-f0112197-c866-4625-a875-b080556d43ee\">\n",
              "      Upload widget is only available when the cell has been executed in the\n",
              "      current browser session. Please rerun this cell to enable.\n",
              "      </output>\n",
              "      <script src=\"/nbextensions/google.colab/files.js\"></script> "
            ]
          },
          "metadata": {}
        },
        {
          "output_type": "stream",
          "name": "stdout",
          "text": [
            "Saving DATA_ES500.xlsx to DATA_ES500.xlsx\n",
            "Saving Forward_prices.xlsx to Forward_prices.xlsx\n",
            "Saving IV.xlsx to IV.xlsx\n"
          ]
        }
      ]
    },
    {
      "cell_type": "code",
      "source": [
        "d = pd.read_excel(io.BytesIO(uploaded['DATA_ES500.xlsx'])) #implied volatility surface with strikes\n",
        "fwd = pd.read_excel(io.BytesIO(uploaded['Forward_prices.xlsx'])) #forward prices\n",
        "IV = pd.read_excel(io.BytesIO(uploaded['IV.xlsx'])) #implied vols"
      ],
      "metadata": {
        "id": "p9aRaHW5gJme"
      },
      "execution_count": null,
      "outputs": []
    },
    {
      "cell_type": "code",
      "source": [
        "K = d['Strikes'].to_numpy()\n",
        "\n",
        "\n",
        "forwards = fwd['Forwards'].to_numpy()\n",
        "\n",
        "#Algorithm to get Time to maturities\n",
        "\n",
        "start_date= '04/11/2019' #T0\n",
        "start_date = pd.to_datetime(start_date) \n",
        "\n",
        "T = [] \n",
        "\n",
        "for i in range(18):\n",
        "  end = pd.to_datetime(IV.columns.values[i])\n",
        "  maturity = (end - start_date) \n",
        "  T.append(float(maturity.days)/365) # Time to maturity\n",
        "\n"
      ],
      "metadata": {
        "id": "Zfd_y6L13yy1"
      },
      "execution_count": null,
      "outputs": []
    },
    {
      "cell_type": "markdown",
      "source": [
        "## Calibrated parameters"
      ],
      "metadata": {
        "id": "Xyd_Vw5wOhE6"
      }
    },
    {
      "cell_type": "code",
      "source": [
        "def SABR_calibration(K,alpha,rho,sigma0):\n",
        "  z = (alpha*np.log(F/K))/sigma0\n",
        "  x = np.log((np.sqrt(1-2*rho*z+z**2)+z-rho)/(1-rho))\n",
        "  sigma = sigma0*(z/x)*(1+0.125*tau*(2*alpha*rho*sigma0+alpha**2*((2/3)-rho**2))) #Hagans Formula\n",
        "  return sigma"
      ],
      "metadata": {
        "id": "-K6mOJpw32Wj"
      },
      "execution_count": null,
      "outputs": []
    },
    {
      "cell_type": "code",
      "source": [
        "parameters = np.zeros((3,len(T)))\n",
        "\n",
        "for i in range(0,len(T)): #Calibration of each maturity\n",
        "  F = forwards[i]\n",
        "  tau = T[i]\n",
        "  x0 = np.array([0.7,-0.5,0.15])\n",
        "  popt,pcov = curve_fit(SABR_calibration, K, IV.iloc[:,i],x0)\n",
        "  parameters[:,i] = np.transpose(popt)"
      ],
      "metadata": {
        "id": "U98Mw3JbNc5O"
      },
      "execution_count": null,
      "outputs": []
    },
    {
      "cell_type": "code",
      "source": [
        "alpha=parameters[0,:]\n",
        "rho= parameters[1,:]\n",
        "sigma0 = parameters[2,:]"
      ],
      "metadata": {
        "id": "WDWwCQCJNcxp"
      },
      "execution_count": null,
      "outputs": []
    },
    {
      "cell_type": "code",
      "source": [
        "plt.plot(T,alpha, label='alpha')\n",
        "plt.plot(T,rho, label='rho')\n",
        "plt.plot(T,sigma0,label='sigma0')\n",
        "plt.ylabel('Parameters')\n",
        "plt.xlabel('Time to Maturity')\n",
        "plt.show()"
      ],
      "metadata": {
        "id": "BKZIOh9mNcqY"
      },
      "execution_count": null,
      "outputs": []
    },
    {
      "cell_type": "code",
      "source": [
        "plt.plot(T,alpha)\n",
        "plt.ylabel('Alpha')\n",
        "plt.xlabel('Time to Maturity')"
      ],
      "metadata": {
        "id": "XanDgorMNcjO"
      },
      "execution_count": null,
      "outputs": []
    },
    {
      "cell_type": "code",
      "source": [
        "plt.plot(T,sigma0)\n",
        "plt.ylabel('Sigma0')\n",
        "plt.xlabel('Time to Maturity')"
      ],
      "metadata": {
        "id": "sbb-44m7Ncba"
      },
      "execution_count": null,
      "outputs": []
    },
    {
      "cell_type": "code",
      "source": [
        "plt.plot(T,rho)\n",
        "plt.ylabel('Rho ')\n",
        "plt.xlabel('Time to Maturity')"
      ],
      "metadata": {
        "id": "oCJZsEsRNcNm"
      },
      "execution_count": null,
      "outputs": []
    },
    {
      "cell_type": "code",
      "source": [
        "rv = rho*alpha\n",
        "plt.plot(T,rv)\n",
        "plt.ylabel('Rho * Alpha')\n",
        "plt.xlabel('Time to Maturity')"
      ],
      "metadata": {
        "id": "Bn0Tc8xNO_mG"
      },
      "execution_count": null,
      "outputs": []
    },
    {
      "cell_type": "code",
      "source": [
        "Calibration_par = {'Maturity':T,'Alpha':alpha,'Sigma0':sigma0,'Rho':rho,'Skew':rv}\n",
        "print(tabulate(Calibration_par,headers='keys',tablefmt='fancy_grid',stralign='center'))"
      ],
      "metadata": {
        "id": "fB8wm4RiPKTJ"
      },
      "execution_count": null,
      "outputs": []
    },
    {
      "cell_type": "code",
      "source": [
        "def skew(T,a,b):\n",
        "  return(a*T**b) #Power Law\n",
        "\n",
        "popt,pcov = curve_fit(skew, T, rv)\n",
        "print(popt)\n",
        "\n",
        "plt.plot(T,skew(T,*popt), label='Curve fit')\n",
        "plt.plot(T,rv,'.',color='red', label = 'Rho*alpha')\n",
        "plt.ylabel('Rho * Alpha')\n",
        "plt.xlabel('Time to Maturity')\n",
        "plt.legend(loc = 'best')"
      ],
      "metadata": {
        "id": "kH2YkOCsyoGX"
      },
      "execution_count": null,
      "outputs": []
    },
    {
      "cell_type": "markdown",
      "source": [
        "#SABR CALIBRATION BY LA CAIXA"
      ],
      "metadata": {
        "id": "rTv1J-skc4yJ"
      }
    },
    {
      "cell_type": "code",
      "source": [
        "uploaded = files.upload()"
      ],
      "metadata": {
        "id": "gZwYaJ5zc-gL"
      },
      "execution_count": null,
      "outputs": []
    },
    {
      "cell_type": "code",
      "source": [
        "df = pd.read_excel(io.BytesIO(uploaded['PARAMS.xlsx'])) #Calibrated parameters Caixabank\n"
      ],
      "metadata": {
        "id": "OtLUWVKmdWhT"
      },
      "execution_count": null,
      "outputs": []
    },
    {
      "cell_type": "code",
      "source": [
        "fig = plt.figure()\n",
        "\n",
        "plt.plot(T, df.v, label = 'alpha')\n",
        "\n",
        "plt.plot(T, df.rho,label='rho')\n",
        "\n",
        "plt.plot(T, df.alpha, label = 'sigma0')\n",
        "plt.ylabel('Parameters')\n",
        "plt.xlabel('Time to Maturity')"
      ],
      "metadata": {
        "id": "dX_tKgzPdaSH"
      },
      "execution_count": null,
      "outputs": []
    },
    {
      "cell_type": "code",
      "source": [
        "plt.plot( T, df.rho)\n",
        "plt.ylabel('Rho')\n",
        "plt.xlabel('Time to Maturity')"
      ],
      "metadata": {
        "id": "dZB8mEJddbyj"
      },
      "execution_count": null,
      "outputs": []
    },
    {
      "cell_type": "code",
      "source": [
        "plt.plot(T,df.alpha)\n",
        "plt.ylabel('Sigma0')\n",
        "plt.xlabel('Time to Maturity')"
      ],
      "metadata": {
        "id": "QPatVkrKddEb"
      },
      "execution_count": null,
      "outputs": []
    },
    {
      "cell_type": "code",
      "source": [
        "plt.plot(T, df.v)\n",
        "plt.ylabel('Alpha')\n",
        "plt.xlabel('Time to Maturity')"
      ],
      "metadata": {
        "id": "f_rhLFpudeYB"
      },
      "execution_count": null,
      "outputs": []
    },
    {
      "cell_type": "code",
      "source": [
        "plt.plot(T, df.rho *df.v)\n",
        "plt.ylabel('Rho * Alpha')\n",
        "plt.xlabel('Time to Maturity')"
      ],
      "metadata": {
        "id": "Z86Q42G-dflx"
      },
      "execution_count": null,
      "outputs": []
    },
    {
      "cell_type": "code",
      "source": [
        "rv_caixa = df.rho *df.v\n",
        "\n",
        "\n",
        "popt,pcov = curve_fit(skew, T, rv_caixa)\n",
        "print(popt)\n",
        "\n",
        "plt.plot(T,skew(T,*popt), label='Curve fit')\n",
        "plt.plot(T,rv,'.',color='red', label = 'Rho*alpha')\n",
        "plt.ylabel('Rho * Alpha')\n",
        "plt.xlabel('Time to Maturity')\n",
        "plt.legend(loc = 'best')"
      ],
      "metadata": {
        "id": "X-OxVRDFdiIn"
      },
      "execution_count": null,
      "outputs": []
    },
    {
      "cell_type": "markdown",
      "source": [
        "## Implied volatility surface"
      ],
      "metadata": {
        "id": "wL0uQkRRPqqK"
      }
    },
    {
      "cell_type": "code",
      "source": [
        "IV_cal = [] #calibrated implied volatility surface\n",
        "\n",
        "for i in range(18):\n",
        "  tau = T[i]\n",
        "  F = forwards[i]\n",
        "  IV_cal.append(SABR_calibration(K,alpha[i],rho[i],sigma0[i]))\n",
        "\n",
        "IV_cal = pd.DataFrame(IV_cal)\n"
      ],
      "metadata": {
        "id": "eH-j7GRYPuGu"
      },
      "execution_count": null,
      "outputs": []
    },
    {
      "cell_type": "code",
      "source": [
        "x = K\n",
        "y = T\n",
        "X,Y = np.meshgrid(x,y)\n",
        "Z = IV_cal\n",
        "fig = plt.figure()\n",
        "fig.set_size_inches(8, 6)\n",
        "\n",
        "ax = fig.add_subplot(111,projection='3d')\n",
        "ax.plot_surface(X,Y,Z, cmap='viridis')\n",
        "\n",
        "ax.set_title('calibrated SABR surface')\n",
        "ax.set_ylabel('Time to maturity')\n",
        "ax.set_xlabel('Strikes')\n",
        "\n"
      ],
      "metadata": {
        "id": "qLyuOucTPw5Y"
      },
      "execution_count": null,
      "outputs": []
    },
    {
      "cell_type": "code",
      "source": [
        "x = T\n",
        "y = K\n",
        "X,Y = np.meshgrid(x,y)\n",
        "Z = IV #implied vol, real market data\n",
        "fig = plt.figure()\n",
        "fig.set_size_inches(8, 6)\n",
        "\n",
        "ax = fig.add_subplot(111,projection='3d')\n",
        "ax.plot_surface(Y,X,Z, cmap='cividis')\n",
        "ax.set_title('Real volatility surface')\n",
        "ax.set_ylabel('Time to maturity')\n",
        "ax.set_xlabel('Strikes')"
      ],
      "metadata": {
        "id": "5iPLY1gFRxY7"
      },
      "execution_count": null,
      "outputs": []
    },
    {
      "cell_type": "markdown",
      "source": [
        "## Volatility skews"
      ],
      "metadata": {
        "id": "WD4ibVcXSJk9"
      }
    },
    {
      "cell_type": "code",
      "source": [
        "fig,ax= plt.subplots(nrows=3,ncols=3,figsize=(12,8),gridspec_kw={'wspace':0.2,'hspace':0.1},sharex='col',sharey='row')\n",
        "\n",
        "tau = T[0]\n",
        "F = forwards[0]\n",
        "ax[0,0].plot(K,SABR_calibration(K,alpha[0],rho[0],sigma0[0]),'.',label ='IV Hagan, T = 0.1')\n",
        "ax[0,0].plot(K,d['5/17/2019'],color='red', label='IV market, T = 0.1  ')\n",
        "ax[0,0].grid()\n",
        "ax[0,0].legend(loc='best')\n",
        "\n",
        "tau = T[1]\n",
        "F = forwards[1]\n",
        "ax[0,1].plot(K,SABR_calibration(K,alpha[1],rho[1],sigma0[1]),'.',label ='IV Hagan, T = 0.19')\n",
        "ax[0,1].plot(K,d['6/21/2019'],color='red', label='IV market, T = 0.19 ')\n",
        "ax[0,1].grid()\n",
        "ax[0,1].legend(loc='best')\n",
        "\n",
        "tau = T[2]\n",
        "F = forwards[2]\n",
        "ax[0,2].plot(K,SABR_calibration(K,alpha[2],rho[2],sigma0[2]),'.',label ='IV Hagan, T = 0.27 ')\n",
        "ax[0,2].plot(K,d['7/19/2019'],color='red', label='IV market, T = 0.27  ')\n",
        "ax[0,2].grid()\n",
        "ax[0,2].legend(loc='best')\n",
        "\n",
        "tau = T[3]\n",
        "F = forwards[3]\n",
        "ax[1,0].plot(K,SABR_calibration(K,alpha[3],rho[3],sigma0[3]),'.',label ='IV Hagan, T = 0.35')\n",
        "ax[1,0].plot(K,d['8/16/2019'],color='red', label='IV market, T = 0.35 ')\n",
        "ax[1,0].grid()\n",
        "ax[1,0].legend(loc='best')\n",
        "\n",
        "tau = T[4]\n",
        "F = forwards[4]\n",
        "ax[1,1].plot(K,SABR_calibration(K,alpha[4],rho[4],sigma0[4]),'.',label ='IV Hagan, T = 0.44')\n",
        "ax[1,1].plot(K,d['9/20/2019'],color='red', label='IV market, T = 0.44 ')\n",
        "ax[1,1].grid()\n",
        "ax[1,1].legend(loc='best')\n",
        "\n",
        "tau = T[5]\n",
        "F = forwards[5]\n",
        "ax[1,2].plot(K,SABR_calibration(K,alpha[5],rho[5],sigma0[5]),'.',label ='IV Hagan, T = 0.69')\n",
        "ax[1,2].plot(K,d['12/20/2019'],color='red', label='IV market, T = 0.69 ')\n",
        "ax[1,2].grid()\n",
        "ax[1,2].legend(loc='best')\n",
        "\n",
        "tau = T[6]\n",
        "F = forwards[6]\n",
        "ax[2,0].plot(K,SABR_calibration(K,alpha[6],rho[6],sigma0[6]),'.',label ='IV Hagan, T = 0.94')\n",
        "ax[2,0].plot(K,d['3/20/2020'],color='red', label='IV market, T = 0.94 ')\n",
        "ax[2,0].grid()\n",
        "ax[2,0].legend(loc='best')\n",
        "\n",
        "tau = T[7]\n",
        "F = forwards[7]\n",
        "ax[2,1].plot(K,SABR_calibration(K,alpha[7],rho[7],sigma0[7]),'.',label ='IV Hagan, T = 1.19 ')\n",
        "ax[2,1].plot(K,d['6/19/2020'],color='red', label='IV market, T = 1.19 ')\n",
        "ax[2,1].grid()\n",
        "ax[2,1].legend(loc='best')\n",
        "\n",
        "tau = T[8]\n",
        "F = forwards[8]\n",
        "ax[2,2].plot(K,SABR_calibration(K,alpha[8],rho[8],sigma0[8]),'.',label ='IV Hagan, T = 1.69')\n",
        "ax[2,2].plot(K,d['12/18/2020'],color='red', label='IV market, T = 1.69 ')\n",
        "ax[2,2].grid()\n",
        "ax[2,2].legend(loc='best')\n",
        "\n",
        "\n",
        "plt.setp(ax[-1, :], xlabel='Strikes')\n",
        "plt.setp(ax[:, 0], ylabel=' Implied volatility')\n",
        "\n"
      ],
      "metadata": {
        "id": "1N2HhxuASQaF"
      },
      "execution_count": null,
      "outputs": []
    },
    {
      "cell_type": "code",
      "source": [
        "fig,ax= plt.subplots(nrows=3,ncols=3,figsize=(12,8),gridspec_kw={'wspace':0.2,'hspace':0.1},sharex='col',sharey='row')\n",
        "\n",
        "tau = T[9]\n",
        "F = forwards[9]\n",
        "ax[0,0].plot(K,SABR_calibration(K,alpha[9],rho[9],sigma0[9]),'.',label ='IV Hagan, T = 2.19 ')\n",
        "ax[0,0].plot(K,d['6/18/2021'],color='red', label='IV market, T = 2.19 ')\n",
        "ax[0,0].grid()\n",
        "ax[0,0].legend(loc='best')\n",
        "\n",
        "tau = T[10]\n",
        "F = forwards[10]\n",
        "ax[0,1].plot(K,SABR_calibration(K,alpha[10],rho[10],sigma0[10]),'.',label ='IV Hagan, T = 2.68')\n",
        "ax[0,1].plot(K,d['12/17/2021'],color='red', label='IV market, T = 2.68 ')\n",
        "ax[0,1].grid()\n",
        "ax[0,1].legend(loc='best')\n",
        "\n",
        "tau = T[11]\n",
        "F = forwards[11]\n",
        "ax[0,2].plot(K,SABR_calibration(K,alpha[11],rho[11],sigma0[11]),'.',label ='IV Hagan, T = 3.68')\n",
        "ax[0,2].plot(K,d['12/16/2022'],color='red', label='IV market, T = 3.68 ')\n",
        "ax[0,2].grid()\n",
        "ax[0,2].legend(loc='best')\n",
        "\n",
        "tau = T[12]\n",
        "F = forwards[12]\n",
        "ax[1,0].plot(K,SABR_calibration(K,alpha[12],rho[12],sigma0[12]),'.',label ='IV Hagan, T = 4.68')\n",
        "ax[1,0].plot(K,d['12/15/2023'],color='red', label='IV market, T = 4.68 ')\n",
        "ax[1,0].grid()\n",
        "ax[1,0].legend(loc='best')\n",
        "\n",
        "tau = T[13]\n",
        "F = forwards[13]\n",
        "ax[1,1].plot(K,SABR_calibration(K,alpha[13],rho[13],sigma0[13]),'.',label ='IV Hagan, T = 5.7')\n",
        "ax[1,1].plot(K,d['12/20/2024'],color='red', label='IV market, T = 5.7 ')\n",
        "ax[1,1].grid()\n",
        "ax[1,1].legend(loc='best')\n",
        "\n",
        "tau = T[14]\n",
        "F = forwards[14]\n",
        "ax[1,2].plot(K,SABR_calibration(K,alpha[14],rho[14],sigma0[14]),'.',label ='IV Hagan, T = 6.7')\n",
        "ax[1,2].plot(K,d['12/19/2025'],color='red', label='IV market, T = 6.7 ')\n",
        "ax[1,2].grid()\n",
        "ax[1,2].legend(loc='best')\n",
        "\n",
        "tau = T[15]\n",
        "F = forwards[15]\n",
        "ax[2,0].plot(K,SABR_calibration(K,alpha[15],rho[15],sigma0[15]),'.',label ='IV Hagan, T = 7.69')\n",
        "ax[2,0].plot(K,d['12/18/2026'],color='red', label='IV market, T = 7.69 ')\n",
        "ax[2,0].grid()\n",
        "ax[2,0].legend(loc='best')\n",
        "\n",
        "tau = T[16]\n",
        "F = forwards[16]\n",
        "ax[2,1].plot(K,SABR_calibration(K,alpha[16],rho[16],sigma0[16]),'.',label ='IV Hagan, T = 8.69')\n",
        "ax[2,1].plot(K,d['12/17/2027'],color='red', label='IV market, T = 8.69 ')\n",
        "ax[2,1].grid()\n",
        "ax[2,1].legend(loc='best')\n",
        "\n",
        "tau = T[17]\n",
        "F = forwards[17]\n",
        "ax[2,2].plot(K,SABR_calibration(K,alpha[17],rho[17],sigma0[17]),'.',label ='IV Hagan, T = 9.69')\n",
        "ax[2,2].plot(K,d['12/15/2028'],color='red', label='IV market, T = 9.69 ')\n",
        "ax[2,2].grid()\n",
        "ax[2,2].legend(loc='best')\n",
        "\n",
        "plt.setp(ax[-1, :], xlabel='Strikes')\n",
        "plt.setp(ax[:, 0], ylabel=' Implied volatility')"
      ],
      "metadata": {
        "id": "lgzmCfo1VJKP"
      },
      "execution_count": null,
      "outputs": []
    },
    {
      "cell_type": "code",
      "source": [
        "plt.rcParams.update(plt.rcParamsDefault)\n",
        "\n",
        "#Comparison implied vol skew short vs long maturity\n",
        "tau = T[0]\n",
        "F = forwards[0]\n",
        "plt.plot(K,SABR_calibration(K,alpha[0],rho[0],sigma0[0]),'.',label='IV Hagan, T = 0.01')\n",
        "plt.plot(K,d['5/17/2019'],label='IV market, T = 0.1')\n",
        "\n",
        "tau = T[17]\n",
        "F = forwards[17]\n",
        "plt.plot(K,SABR_calibration(K,alpha[17],rho[17],sigma0[17]),'.',label='IV Hagan, T = 9.69', color = 'green')\n",
        "plt.plot(K,d['12/15/2028'],label='IV market, T = 9.69')\n",
        "\n",
        "plt.xlabel('Strikes')\n",
        "plt.ylabel('Implied volatility')\n",
        "plt.legend()\n"
      ],
      "metadata": {
        "id": "U-gqLt402M3m"
      },
      "execution_count": null,
      "outputs": []
    },
    {
      "cell_type": "markdown",
      "source": [
        "# NUMERICAL METHODS"
      ],
      "metadata": {
        "id": "M4ivUZqO3zoy"
      }
    },
    {
      "cell_type": "code",
      "source": [
        "Prices = np.zeros((51,18))\n",
        "\n",
        "for i in range(18):\n",
        "  tau = T[i]\n",
        "  F = forwards[i]\n",
        "  for j in range(51):\n",
        "    Prices[j][i] = cond_MC(F,K[j],sigma0[i],10000,1000,tau,alpha[i],rho[i])\n",
        "\n",
        "Prices = pd.DataFrame(Prices)"
      ],
      "metadata": {
        "id": "VylVcEiqhVGD"
      },
      "execution_count": null,
      "outputs": []
    },
    {
      "cell_type": "code",
      "source": [
        "def ImpliedBrent(F0,T,K,optionprice):\n",
        "    def error(a):\n",
        "      return(BS(F0, K, 0, a, T)-optionprice)**2 #Assuming MC prices are the real ones\n",
        "    return optimize.brent(error, brack=(0.001,5)) #optimize in the range of values 0.001-5"
      ],
      "metadata": {
        "id": "3JzRqWBVWxuX"
      },
      "execution_count": null,
      "outputs": []
    },
    {
      "cell_type": "code",
      "source": [
        "IV_BRENT = np.zeros((51,18))\n",
        "\n",
        "for i in range(18):\n",
        "  tau = T[i]\n",
        "  F = forwards[i]\n",
        "\n",
        "  for j in range(51):\n",
        "    IV_BRENT[j][i] = ImpliedBrent(F, tau, K[j], Prices[i][j])\n",
        "\n",
        "\n",
        "IV_BRENT = pd.DataFrame(IV_BRENT)\n",
        "IV_BRENT = pd.DataFrame.transpose(IV_BRENT)\n",
        "IV_market = pd.DataFrame.transpose(IV)"
      ],
      "metadata": {
        "id": "ccD2JHxyW5d6"
      },
      "execution_count": null,
      "outputs": []
    },
    {
      "cell_type": "code",
      "source": [
        "#IV surface from market data vs Brent \n",
        "\n",
        "x = K\n",
        "y = T\n",
        "X,Y = np.meshgrid(x,y)\n",
        "Z = IV_BRENT\n",
        "fig = plt.figure()\n",
        "fig.set_size_inches(8, 6)\n",
        "\n",
        "ax = fig.add_subplot(111,projection='3d')\n",
        "ax.scatter(X,Y,Z)\n",
        "ax.scatter(X,Y,IV_cal)\n",
        "\n",
        "ax.set_title('IV Surface vs BRENT  surface')\n",
        "ax.set_ylabel('Time to maturity')\n",
        "ax.set_xlabel('Strikes')"
      ],
      "metadata": {
        "id": "TGlP8b4Z7K0Y"
      },
      "execution_count": null,
      "outputs": []
    },
    {
      "cell_type": "code",
      "source": [
        "#IV surface from market data vs Brent \n",
        "x = K\n",
        "y = T\n",
        "X,Y = np.meshgrid(x,y)\n",
        "Z = IV_BRENT\n",
        "fig = plt.figure()\n",
        "fig.set_size_inches(8, 6)\n",
        "\n",
        "ax = fig.add_subplot(111,projection='3d')\n",
        "ax.plot_surface(X,Y,Z)\n",
        "ax.plot_surface(X,Y,IV_market)\n",
        "\n",
        "ax.set_title('IV surface vs BRENT surface')\n",
        "ax.set_ylabel('Time to maturity')\n",
        "ax.set_xlabel('Strikes')"
      ],
      "metadata": {
        "id": "MRenuPT6aSbH"
      },
      "execution_count": null,
      "outputs": []
    },
    {
      "cell_type": "code",
      "source": [
        "#IV surface from Brent\n",
        "x = K\n",
        "y = T\n",
        "X,Y = np.meshgrid(x,y)\n",
        "Z = IV_BRENT\n",
        "fig = plt.figure()\n",
        "fig.set_size_inches(8, 6)\n",
        "\n",
        "ax = fig.add_subplot(111,projection='3d')\n",
        "ax.plot_surface(X,Y,Z, cmap='viridis')\n",
        "\n",
        "ax.set_title('BRENT surface')\n",
        "ax.set_ylabel('Time to maturity')\n",
        "ax.set_xlabel('Strikes')"
      ],
      "metadata": {
        "id": "yh7ADPIbgMXQ"
      },
      "execution_count": null,
      "outputs": []
    },
    {
      "cell_type": "code",
      "source": [
        "def Impliedfminbound(F0,T,K,optionprice):\n",
        "    def error(a):\n",
        "      return(BS(F0, K, 0, a, T)-optionprice)**2 #Assuming MC prices are the real ones\n",
        "    return optimize.fminbound(error, 0.001,5)"
      ],
      "metadata": {
        "id": "-UsC8RS-2Yq4"
      },
      "execution_count": null,
      "outputs": []
    },
    {
      "cell_type": "code",
      "source": [
        "IV_FMIN = np.zeros((51,18))\n",
        "\n",
        "for i in range(18):\n",
        "  tau = T[i]\n",
        "  F = forwards[i]\n",
        "\n",
        "  for j in range(51):\n",
        "    IV_FMIN[j][i] = Impliedfminbound(F, tau, K[j], Prices[i][j])\n",
        "\n",
        "IV_FMIN = pd.DataFrame(IV_FMIN)\n",
        "IV_FMIN = pd.DataFrame.transpose(IV_FMIN)"
      ],
      "metadata": {
        "id": "quZTuvo35Bg4"
      },
      "execution_count": null,
      "outputs": []
    },
    {
      "cell_type": "code",
      "source": [
        "#IV surface from market data vs FMIN\n",
        "x = K\n",
        "y = T\n",
        "X,Y = np.meshgrid(x,y)\n",
        "Z = IV_FMIN\n",
        "fig = plt.figure()\n",
        "fig.set_size_inches(8, 6)\n",
        "\n",
        "ax = fig.add_subplot(111,projection='3d')\n",
        "ax.scatter(X,Y,Z)\n",
        "ax.scatter(X,Y,IV_market)\n",
        "\n",
        "ax.set_title('IV surface vs FMIN surface')\n",
        "ax.set_ylabel('Time to maturity')\n",
        "ax.set_xlabel('Strikes')"
      ],
      "metadata": {
        "id": "JjdI3WLX9nZ9"
      },
      "execution_count": null,
      "outputs": []
    },
    {
      "cell_type": "code",
      "source": [
        "#IV surface from market data vs FMIN\n",
        "x = K\n",
        "y = T\n",
        "X,Y = np.meshgrid(x,y)\n",
        "Z = IV_FMIN\n",
        "fig = plt.figure()\n",
        "fig.set_size_inches(8, 6)\n",
        "\n",
        "ax = fig.add_subplot(111,projection='3d')\n",
        "ax.plot_surface(X,Y,Z)\n",
        "ax.plot_surface(X,Y,IV_market)\n",
        "\n",
        "ax.set_title('IV surface vs FMIN surface')\n",
        "ax.set_ylabel('Time to maturity')\n",
        "ax.set_xlabel('Strikes')"
      ],
      "metadata": {
        "id": "QX2KmTAV9seS"
      },
      "execution_count": null,
      "outputs": []
    },
    {
      "cell_type": "code",
      "source": [
        "#FMIN implied volatility surface\n",
        "x = K\n",
        "y = T\n",
        "X,Y = np.meshgrid(x,y)\n",
        "Z = IV_FMIN\n",
        "fig = plt.figure()\n",
        "fig.set_size_inches(8, 6)\n",
        "\n",
        "ax = fig.add_subplot(111,projection='3d')\n",
        "ax.plot_surface(X,Y,Z, cmap='viridis')\n",
        "\n",
        "ax.set_title('FMIN surface')\n",
        "ax.set_ylabel('Time to maturity')\n",
        "ax.set_xlabel('Strikes')"
      ],
      "metadata": {
        "id": "OeS5PZqz-k3K"
      },
      "execution_count": null,
      "outputs": []
    }
  ]
}